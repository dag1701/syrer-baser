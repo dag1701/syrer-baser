{
 "cells": [
  {
   "cell_type": "markdown",
   "id": "e4ff4e38",
   "metadata": {},
   "source": [
    "# pH-beregninger med programmering\n",
    "\n",
    "__Biblioteker i Python kan inneholde mye nyttig. Vi benytter samlepakken pylab til blant annet matematikk, plotting og datahåndtering. Et annet nyttig bibliotek er pHcalc, som kan brukes til å gjøre pH-beregninger i vannløsninger.__ \n",
    "<div class=\"alert alert-block alert-info\">\n",
    "    <b>NB!</b> Fordi innstillingene i Skoleplattform Oslo ikke lar oss innstallere pHcalc på noen enkel måte, må vi kjøre dette programmet på en virtuell server eksternt. \n",
    "</div>"
   ]
  },
  {
   "cell_type": "markdown",
   "id": "03d5f9cb",
   "metadata": {},
   "source": [
    "## 1. pH-beregninger\n",
    "\n",
    "Vi kan beregne pH-en i både sterke og svake syrer ved hjelp av funksjoner i pHcalc-biblioteket. Vi definerer først et ion som i seg selv enten er surt, basisk eller nøytralt. Vi angir ladningen og konsentrasjonen til dette ionet. Deretter setter vi opp en løsning med dette ionet. Det gjør vi ved å definere et system, som består av ionet og tilhørende [H+] og [OH-], som justeres automatisk. Funksjonen pHsolve beregner pH-verdien i systemet, som vi deretter kan få ut ved å kalle på funksjonen pH. Her ser vi to eksempler på hvordan vi kan beregne pH i løsninger av sterke syrer og baser:"
   ]
  },
  {
   "cell_type": "code",
   "execution_count": 1,
   "id": "e11db98e",
   "metadata": {},
   "outputs": [
    {
     "name": "stdout",
     "output_type": "stream",
     "text": [
      "pH i 0,1 M HNO3 er: 1.000001525878904\n",
      "pH i 0,1 M NaOH er: 12.000002288818362\n"
     ]
    }
   ],
   "source": [
    "from pylab import *\n",
    "from pHcalc.pHcalc import Acid, Neutral, System\n",
    "\n",
    "# pH i 0,1 M HNO3\n",
    "# Konsentrasjon av OH^- og H3O^+ justeres automatisk\n",
    "no3 = Neutral(charge=-1, conc=0.1) # Nitrat gir i seg selv nøytral løsning\n",
    "\n",
    "system1 = System(no3)\n",
    "system1.pHsolve()\n",
    "print(\"pH i 0,1 M HNO3 er:\", system1.pH)\n",
    "\n",
    "# Base (0,01 M NaOH)\n",
    "Na = Neutral(charge=1, conc=0.01) # Natrium gir i seg selv nøytral løsning\n",
    "system2 = System(Na)\n",
    "system2.pHsolve()\n",
    "print(\"pH i 0,1 M NaOH er:\", system2.pH)"
   ]
  },
  {
   "cell_type": "markdown",
   "id": "c6ef64a9",
   "metadata": {},
   "source": [
    "Dersom vi ønsker å beregne pH i svake syrer og baser, må vi spesifisere pKa for syra. Hvis syra er flerprotisk, lager vi en liste med syrekonstanter."
   ]
  },
  {
   "cell_type": "code",
   "execution_count": 2,
   "id": "c10b5c33",
   "metadata": {},
   "outputs": [
    {
     "name": "stdout",
     "output_type": "stream",
     "text": [
      "7.59922332763672\n",
      "2.8345321655273423\n",
      "8.95915298461914\n"
     ]
    }
   ],
   "source": [
    "from pylab import *\n",
    "from pHcalc.pHcalc import Acid, Neutral, System\n",
    "\n",
    "# pH i  0,01 M KF\n",
    "hf = Acid(Ka=6.76E-4, charge=0, conc=0.01)\n",
    "k = Neutral(charge=1, conc=0.01)\n",
    "system1 = System(hf, k)\n",
    "system1.pHsolve()\n",
    "print(system1.pH)\n",
    "\n",
    "# 0,01 M H2CO3\n",
    "karbonsyre = Acid(Ka=[2.51E-4, 4.79E-11], charge=0, conc=0.01)\n",
    "system2 = System(karbonsyre)\n",
    "system2.pHsolve()\n",
    "print(system2.pH)\n",
    "\n",
    "# Sammensatte systemer (her (NH4)3PO4)\n",
    "phos = Acid(pKa=[2.148, 7.198, 12.319], charge=0, conc=0.01)\n",
    "nh4 = Acid(pKa=9.25, charge=1, conc=0.01*3)\n",
    "system = System(phos, nh4)\n",
    "system.pHsolve()\n",
    "print(system.pH)"
   ]
  },
  {
   "cell_type": "markdown",
   "id": "a3aaf587",
   "metadata": {},
   "source": [
    "## 2. Titrering\n",
    "\n",
    "Dersom vi utfører pH-beregninger for flere verdier av tilsatt volum i en løsning, kan vi simulere en titrerkurve:\n",
    "\n"
   ]
  },
  {
   "cell_type": "code",
   "execution_count": 3,
   "id": "30d59ee0",
   "metadata": {},
   "outputs": [
    {
     "data": {
      "image/png": "[encoded data removed]",
      "text/plain": [
       "<Figure size 640x480 with 1 Axes>"
      ]
     },
     "metadata": {},
     "output_type": "display_data"
    }
   ],
   "source": [
    "from pylab import *\n",
    "from pHcalc.pHcalc import Acid, Neutral, System\n",
    "\n",
    "# Titrering av 0.1 M HCl med NaOH\n",
    "V_NaOH = linspace(0, 0.050, 500) # Volum i L\n",
    "c_NaOH = 0.1 # mol/L\n",
    "V_HCl = 0.020 # L\n",
    "c_HCl = 0.1\n",
    "n_HCl = c_HCl*V_HCl\n",
    "\n",
    "phs = []\n",
    "tilsatt_volum_NaOH = []\n",
    "\n",
    "for volum in V_NaOH:\n",
    "    V_total = V_HCl + volum # Totalvolum i prøveløsningen etter tilsatt base\n",
    "    na = Neutral(charge=1, conc=(volum*c_NaOH)/(V_total)) # NaOH\n",
    "    cl = Neutral(charge=-1, conc=n_HCl/V_total)           # HCl\n",
    "    system = System(na, cl)\n",
    "    system.pHsolve()\n",
    "    phs.append(system.pH)\n",
    "    tilsatt_volum_NaOH.append(volum*1000)\n",
    "    \n",
    "plot(tilsatt_volum_NaOH, phs)\n",
    "xlabel(\"Tilsatt NaOH (mL)\")\n",
    "ylabel(\"pH\")\n",
    "show()"
   ]
  },
  {
   "cell_type": "markdown",
   "id": "e2ac234c",
   "metadata": {},
   "source": [
    "I programmet gjør vi følgende:\n",
    "\n",
    "1. Definerer hvor mye NaOH vi skal tilsette gradvis. Her velger vi et volum mellom 0 og 50 mL, som vi tilsetter gradvis med 500 «dråper».\n",
    "\n",
    "2. Definerer konsentrasjonen og volumet til syra og basen, og regner ut stoffmengden til syra. Merk at vi ikke kan ha ukjent konsentrasjon av en syre her, som i en virkelig titrering.\n",
    "\n",
    "3. I løkka tilsetter vi gradvis et volum NaOH, som vi legger til volumet av titranten (syra).\n",
    "\n",
    "4. Så definerer vi systemet. Legg merke til hvordan vi må beregne konsentrasjonen hver gang. Det kan være en fin oppgave i støkiometri å be elevene fylle inn konsentrasjonsberegningen for NaOH og HCl selv.\n",
    "\n",
    "5. Deretter beregnes pH-en ved tilsatt volum, og løkka («byretten») fortsetter med å legge til mer NaOH.\n",
    "\n",
    "6. Til slutt plotter vi titrerkurven.\n",
    "\n",
    "Slike simuleringer kan brukes til å estimere titrerkurver, for eksempel før elevene gjør en titrering. Eller det kan brukes til å lage mange ulike titrerkurver for ulike systemer, og utforske disse systemene."
   ]
  },
  {
   "cell_type": "markdown",
   "id": "30a790f9",
   "metadata": {},
   "source": [
    "__Kilder: Dette opplegget er hentet fra digitale ressurser for Kjemi 1 og Kjemi 2 i Aunivers utgitt av Aschehoug forlag A/S.__"
   ]
  }
 ],
 "metadata": {
  "kernelspec": {
   "display_name": "Python 3 (ipykernel)",
   "language": "python",
   "name": "python3"
  },
  "language_info": {
   "codemirror_mode": {
    "name": "ipython",
    "version": 3
   },
   "file_extension": ".py",
   "mimetype": "text/x-python",
   "name": "python",
   "nbconvert_exporter": "python",
   "pygments_lexer": "ipython3",
   "version": "3.10.6"
  }
 },
 "nbformat": 4,
 "nbformat_minor": 5
}
